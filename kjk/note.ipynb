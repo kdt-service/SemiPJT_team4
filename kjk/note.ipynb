{
 "cells": [
  {
   "cell_type": "code",
   "execution_count": 1,
   "metadata": {},
   "outputs": [],
   "source": [
    "import pandas as pd\n",
    "import numpy as np\n",
    "from transformers import BertTokenizer\n",
    "from transformers import BertConfig, BertForSequenceClassification\n",
    "import nltk\n",
    "from nltk.tokenize import sent_tokenize\n",
    "from keras_preprocessing.sequence import pad_sequences\n",
    "import torch\n",
    "from sklearn.model_selection import train_test_split\n",
    "from torch.utils.data import TensorDataset, DataLoader, RandomSampler, SequentialSampler\n",
    "from torch.utils.data import Dataset, DataLoader\n",
    "import torch.nn as nn\n",
    "from transformers import AdamW, get_linear_schedule_with_warmup\n",
    "import re\n",
    "from datetime import datetime"
   ]
  },
  {
   "attachments": {},
   "cell_type": "markdown",
   "metadata": {},
   "source": [
    "### 데이터 준비"
   ]
  },
  {
   "cell_type": "code",
   "execution_count": 78,
   "metadata": {},
   "outputs": [],
   "source": [
    "data = pd.read_csv('C:/Users/tlrks/Desktop/workspace/project/SemiProject/SearchScraper/data.csv')\n",
    "\n",
    "data.dropna(subset=['content', 'title'], inplace=True)\n",
    "\n",
    "def isLonger(text, length):\n",
    "    if len(text) > length:\n",
    "        return True\n",
    "    else:\n",
    "        return False\n",
    "\n",
    "data.drop_duplicates(subset=['title', 'writer'], keep='first', inplace=True)\n",
    "data.drop_duplicates(subset=['content'], keep='first', inplace=True)\n",
    "data = data[data.content.apply(isLonger, args=[100])]\n",
    "\n",
    "data = data[data.title.str.contains('SK') | data.title.str.contains('하이닉스')]"
   ]
  },
  {
   "cell_type": "code",
   "execution_count": 3,
   "metadata": {},
   "outputs": [],
   "source": [
    "chars_to_remove = [\n",
    "    '♥', '≪', '”', \"'\", '(', '🎧', '【', '？', '・', '㎆','℃', '�', '㎸', '㎰', '』', '“',\n",
    "    '━', '…', '™', '\\ufeff', '⋅', '©', '〮', ';', '∙', '↑', '〃', '＜', '］', '®', '》', '×',\n",
    "    '☎', '＝', '‧', ')', '▷', '〈', '$', '∼', '{', '@', '→', '‥', '】', '－', '-', '″', '—',\n",
    "    '▶', '`', '!', '\"', '㎿', '.', '《', '㎛', '☞', '–', '/', '）', '＆', '=', '|', '?', '≫', \n",
    "    '*', '⁺', '~', '▽', '―', '>', '｜', '}', '＞', ':', '㈜', '[', '‘', '㎇', '．', '<', '◈', \n",
    "    '･', '↓', '│', '△', '◎', '․', '▼', '◇', '○', '′', '▲', '◀', '㎾', '◆', '’', '『', '↔', '#', \n",
    "    '■', '●', '〉', '±', '□', ',', '※', '\\u200b', '•']"
   ]
  },
  {
   "cell_type": "code",
   "execution_count": 79,
   "metadata": {},
   "outputs": [],
   "source": [
    "data['content'] = data['content'].str.replace('↑', '상승', regex=True).replace('↓', '하락', regex=True)\n",
    "data['content'] = data['content'].str.replace('[^가-힣a-zA-Z0-9 \\.\\,]', ' ', regex=True).replace(' +', ' ', regex=True)\n",
    "\n",
    "data['title'] = data['title'].str.replace('↑', '상승', regex=True).replace('↓', '하락', regex=True)\n",
    "data['title'] = data['title'].str.replace('[^가-힣a-zA-Z0-9 ]', ' ', regex=True).replace(' +', ' ', regex=True)\n",
    "\n",
    "data['writed_at'] = pd.to_datetime(data['writed_at'], format='%Y-%m-%d %H:%M:%S')"
   ]
  },
  {
   "cell_type": "code",
   "execution_count": 10,
   "metadata": {},
   "outputs": [
    {
     "data": {
      "text/html": [
       "<div>\n",
       "<style scoped>\n",
       "    .dataframe tbody tr th:only-of-type {\n",
       "        vertical-align: middle;\n",
       "    }\n",
       "\n",
       "    .dataframe tbody tr th {\n",
       "        vertical-align: top;\n",
       "    }\n",
       "\n",
       "    .dataframe thead th {\n",
       "        text-align: right;\n",
       "    }\n",
       "</style>\n",
       "<table border=\"1\" class=\"dataframe\">\n",
       "  <thead>\n",
       "    <tr style=\"text-align: right;\">\n",
       "      <th></th>\n",
       "      <th>content</th>\n",
       "      <th>keyword</th>\n",
       "      <th>title</th>\n",
       "      <th>url</th>\n",
       "      <th>writed_at</th>\n",
       "      <th>writer</th>\n",
       "    </tr>\n",
       "  </thead>\n",
       "  <tbody>\n",
       "    <tr>\n",
       "      <th>0</th>\n",
       "      <td>D램, 낸드플래시 매출은 각각 37 , 31 하락 파운드리 공장 2분기 2020년 ...</td>\n",
       "      <td>하이닉스</td>\n",
       "      <td>SK하이닉스 2019년 비메모리 매출 50 상승</td>\n",
       "      <td>https://n.news.naver.com/mnews/article/022/000...</td>\n",
       "      <td>2020-04-01 03:04:05</td>\n",
       "      <td>박세준</td>\n",
       "    </tr>\n",
       "    <tr>\n",
       "      <th>2</th>\n",
       "      <td>이데일리 최정희 기자 삼성전자 005930 , SK하이닉스 000660 주가가 강...</td>\n",
       "      <td>하이닉스</td>\n",
       "      <td>특징주 1분기 실적 호조에 삼성전자 SK하이닉스 강세</td>\n",
       "      <td>https://n.news.naver.com/mnews/article/018/000...</td>\n",
       "      <td>2020-04-07 09:16:04</td>\n",
       "      <td>최정희</td>\n",
       "    </tr>\n",
       "    <tr>\n",
       "      <th>3</th>\n",
       "      <td>SK하이닉스 연합뉴스TV 제공 서울 연합뉴스 김기훈 기자 유진투자증권은 14일 신종...</td>\n",
       "      <td>하이닉스</td>\n",
       "      <td>유진투자 하반기 메모리 가격 하락 전망 SK하이닉스 목표가하락</td>\n",
       "      <td>https://n.news.naver.com/mnews/article/001/001...</td>\n",
       "      <td>2020-04-14 08:39:00</td>\n",
       "      <td>김기훈</td>\n",
       "    </tr>\n",
       "    <tr>\n",
       "      <th>4</th>\n",
       "      <td>머니투데이 김태현 기자 삼성증권은 SK하이닉스에 대해 환율효과와 낸드마진 등으로 ...</td>\n",
       "      <td>하이닉스</td>\n",
       "      <td>SK하이닉스 낸드마진 개선 1Q 호실적 기대 삼성</td>\n",
       "      <td>https://n.news.naver.com/mnews/article/008/000...</td>\n",
       "      <td>2020-04-20 08:35:37</td>\n",
       "      <td>김태현</td>\n",
       "    </tr>\n",
       "    <tr>\n",
       "      <th>5</th>\n",
       "      <td>SK하이닉스가 메모리 반도체 가격 상승에 힘입어 올 1분기 영업이익 8000억원을 ...</td>\n",
       "      <td>하이닉스</td>\n",
       "      <td>SK하이닉스 코로나에도 어닝 서프라이즈 1분기 영업이익 8003억원</td>\n",
       "      <td>https://n.news.naver.com/mnews/article/366/000...</td>\n",
       "      <td>2020-04-23 08:37:21</td>\n",
       "      <td>윤민혁</td>\n",
       "    </tr>\n",
       "  </tbody>\n",
       "</table>\n",
       "</div>"
      ],
      "text/plain": [
       "                                             content keyword  \\\n",
       "0  D램, 낸드플래시 매출은 각각 37 , 31 하락 파운드리 공장 2분기 2020년 ...    하이닉스   \n",
       "2   이데일리 최정희 기자 삼성전자 005930 , SK하이닉스 000660 주가가 강...    하이닉스   \n",
       "3  SK하이닉스 연합뉴스TV 제공 서울 연합뉴스 김기훈 기자 유진투자증권은 14일 신종...    하이닉스   \n",
       "4   머니투데이 김태현 기자 삼성증권은 SK하이닉스에 대해 환율효과와 낸드마진 등으로 ...    하이닉스   \n",
       "5  SK하이닉스가 메모리 반도체 가격 상승에 힘입어 올 1분기 영업이익 8000억원을 ...    하이닉스   \n",
       "\n",
       "                                   title  \\\n",
       "0             SK하이닉스 2019년 비메모리 매출 50 상승   \n",
       "2          특징주 1분기 실적 호조에 삼성전자 SK하이닉스 강세   \n",
       "3    유진투자 하반기 메모리 가격 하락 전망 SK하이닉스 목표가하락    \n",
       "4            SK하이닉스 낸드마진 개선 1Q 호실적 기대 삼성   \n",
       "5  SK하이닉스 코로나에도 어닝 서프라이즈 1분기 영업이익 8003억원   \n",
       "\n",
       "                                                 url           writed_at  \\\n",
       "0  https://n.news.naver.com/mnews/article/022/000... 2020-04-01 03:04:05   \n",
       "2  https://n.news.naver.com/mnews/article/018/000... 2020-04-07 09:16:04   \n",
       "3  https://n.news.naver.com/mnews/article/001/001... 2020-04-14 08:39:00   \n",
       "4  https://n.news.naver.com/mnews/article/008/000... 2020-04-20 08:35:37   \n",
       "5  https://n.news.naver.com/mnews/article/366/000... 2020-04-23 08:37:21   \n",
       "\n",
       "  writer  \n",
       "0    박세준  \n",
       "2    최정희  \n",
       "3    김기훈  \n",
       "4    김태현  \n",
       "5    윤민혁  "
      ]
     },
     "execution_count": 10,
     "metadata": {},
     "output_type": "execute_result"
    }
   ],
   "source": [
    "data.head()"
   ]
  },
  {
   "cell_type": "code",
   "execution_count": 80,
   "metadata": {},
   "outputs": [
    {
     "data": {
      "text/plain": [
       "10728"
      ]
     },
     "execution_count": 80,
     "metadata": {},
     "output_type": "execute_result"
    }
   ],
   "source": [
    "len(data)"
   ]
  },
  {
   "cell_type": "code",
   "execution_count": 81,
   "metadata": {},
   "outputs": [],
   "source": [
    "stock_data = pd.read_csv('./stock_data.csv')\n",
    "\n",
    "stock_data = stock_data.iloc[:760].copy()\n",
    "stock_data['date'] = pd.to_datetime(stock_data['날짜'])\n",
    "stock_data['up'] = None\n",
    "\n",
    "# 전일대비 상승인지 하락인지 1, 0 부여\n",
    "for i in range(len(stock_data)-1):\n",
    "    stock_data.loc[i, 'up'] = int(stock_data.loc[i, '종가'] > stock_data.loc[i+1, '종가'])\n",
    "\n",
    "data['label'] = None\n",
    "for i in range(len(stock_data)-1):\n",
    "    end = stock_data.loc[i, 'date'] + pd.Timedelta(hours=15, minutes=30)\n",
    "    start = stock_data.loc[i+1, 'date'] + pd.Timedelta(hours=15, minutes=30)\n",
    "    data.loc[(start < data['writed_at'])&(data['writed_at'] < end), 'label'] = stock_data.loc[i, 'up']\n",
    "\n",
    "labeled_data = data.loc[:, ['content', 'title', 'writed_at', 'label', 'url']]\n",
    "labeled_data.dropna(inplace=True)\n",
    "# labeled_data.to_csv('./labeled_data.csv', index=False)"
   ]
  },
  {
   "cell_type": "code",
   "execution_count": 19,
   "metadata": {},
   "outputs": [],
   "source": [
    "data = pd.read_csv('./labeled_data.csv')\n",
    "\n",
    "sentences = []\n",
    "labels = []\n",
    "for idx, row in data.iterrows():\n",
    "    article = row['content']\n",
    "    article_label = row['label']\n",
    "    sentences.append(re.sub('[\\,\\.]', ' ', row['title']))\n",
    "    labels.append(article_label)\n",
    "    for sentence in sent_tokenize(article):\n",
    "        sentences.append(re.sub('[\\,\\.]', ' ', sentence).replace('\\ \\ ', ' ').strip())\n",
    "        labels.append(article_label)\n",
    "\n",
    "df = pd.DataFrame({'sentence': sentences, 'label': labels})\n",
    "df = df[df.sentence.apply(isLonger, args=[5])]\n",
    "df.to_csv('./sen_data.csv', index=False)"
   ]
  },
  {
   "cell_type": "code",
   "execution_count": 17,
   "metadata": {},
   "outputs": [
    {
     "data": {
      "text/html": [
       "<div>\n",
       "<style scoped>\n",
       "    .dataframe tbody tr th:only-of-type {\n",
       "        vertical-align: middle;\n",
       "    }\n",
       "\n",
       "    .dataframe tbody tr th {\n",
       "        vertical-align: top;\n",
       "    }\n",
       "\n",
       "    .dataframe thead th {\n",
       "        text-align: right;\n",
       "    }\n",
       "</style>\n",
       "<table border=\"1\" class=\"dataframe\">\n",
       "  <thead>\n",
       "    <tr style=\"text-align: right;\">\n",
       "      <th></th>\n",
       "      <th>sentence</th>\n",
       "    </tr>\n",
       "    <tr>\n",
       "      <th>label</th>\n",
       "      <th></th>\n",
       "    </tr>\n",
       "  </thead>\n",
       "  <tbody>\n",
       "    <tr>\n",
       "      <th>0</th>\n",
       "      <td>114140</td>\n",
       "    </tr>\n",
       "    <tr>\n",
       "      <th>1</th>\n",
       "      <td>101225</td>\n",
       "    </tr>\n",
       "  </tbody>\n",
       "</table>\n",
       "</div>"
      ],
      "text/plain": [
       "       sentence\n",
       "label          \n",
       "0        114140\n",
       "1        101225"
      ]
     },
     "execution_count": 17,
     "metadata": {},
     "output_type": "execute_result"
    }
   ],
   "source": [
    "df.groupby(by='label').count()"
   ]
  },
  {
   "cell_type": "code",
   "execution_count": 94,
   "metadata": {},
   "outputs": [
    {
     "data": {
      "text/html": [
       "<div>\n",
       "<style scoped>\n",
       "    .dataframe tbody tr th:only-of-type {\n",
       "        vertical-align: middle;\n",
       "    }\n",
       "\n",
       "    .dataframe tbody tr th {\n",
       "        vertical-align: top;\n",
       "    }\n",
       "\n",
       "    .dataframe thead th {\n",
       "        text-align: right;\n",
       "    }\n",
       "</style>\n",
       "<table border=\"1\" class=\"dataframe\">\n",
       "  <thead>\n",
       "    <tr style=\"text-align: right;\">\n",
       "      <th></th>\n",
       "      <th>sentence</th>\n",
       "      <th>label</th>\n",
       "    </tr>\n",
       "  </thead>\n",
       "  <tbody>\n",
       "    <tr>\n",
       "      <th>0</th>\n",
       "      <td>SK하이닉스 2019년 비메모리 매출 50 상승</td>\n",
       "      <td>0</td>\n",
       "    </tr>\n",
       "    <tr>\n",
       "      <th>1</th>\n",
       "      <td>D램  낸드플래시 매출은 각각 37   31 하락 파운드리 공장 2분기 2020년 ...</td>\n",
       "      <td>0</td>\n",
       "    </tr>\n",
       "    <tr>\n",
       "      <th>2</th>\n",
       "      <td>연합뉴스 SK하이닉스의 지난해 매출액이 전년 대비 33 감소했지만  비메모리 반도체...</td>\n",
       "      <td>0</td>\n",
       "    </tr>\n",
       "    <tr>\n",
       "      <th>3</th>\n",
       "      <td>31일 SK하이닉스의 사업보고서에 따르면  2019년 D램 매출은 20조3000억원...</td>\n",
       "      <td>0</td>\n",
       "    </tr>\n",
       "    <tr>\n",
       "      <th>4</th>\n",
       "      <td>반면 비메모리 사업을 포함한 기타 항목 매출은 2018년 6500억원에서 지난해 1...</td>\n",
       "      <td>0</td>\n",
       "    </tr>\n",
       "    <tr>\n",
       "      <th>...</th>\n",
       "      <td>...</td>\n",
       "      <td>...</td>\n",
       "    </tr>\n",
       "    <tr>\n",
       "      <th>215071</th>\n",
       "      <td>그래서 올해 내에 D램이든 낸드 등 고정 가격 반등이 예상되기 때문에 주가의 저점은...</td>\n",
       "      <td>0</td>\n",
       "    </tr>\n",
       "    <tr>\n",
       "      <th>215072</th>\n",
       "      <td>앵커 알겠습니다</td>\n",
       "      <td>0</td>\n",
       "    </tr>\n",
       "    <tr>\n",
       "      <th>215073</th>\n",
       "      <td>실적보다는 좀 모멘텀에 주목하면서 역발상 투자 전략을 활용하는 게 좋겠다  라는 말...</td>\n",
       "      <td>0</td>\n",
       "    </tr>\n",
       "    <tr>\n",
       "      <th>215074</th>\n",
       "      <td>지금까지 ET WHY 노근창 센터장 함께했습니다</td>\n",
       "      <td>0</td>\n",
       "    </tr>\n",
       "    <tr>\n",
       "      <th>215075</th>\n",
       "      <td>답변 네  감사합니다</td>\n",
       "      <td>0</td>\n",
       "    </tr>\n",
       "  </tbody>\n",
       "</table>\n",
       "<p>215076 rows × 2 columns</p>\n",
       "</div>"
      ],
      "text/plain": [
       "                                                 sentence  label\n",
       "0                              SK하이닉스 2019년 비메모리 매출 50 상승      0\n",
       "1       D램  낸드플래시 매출은 각각 37   31 하락 파운드리 공장 2분기 2020년 ...      0\n",
       "2       연합뉴스 SK하이닉스의 지난해 매출액이 전년 대비 33 감소했지만  비메모리 반도체...      0\n",
       "3       31일 SK하이닉스의 사업보고서에 따르면  2019년 D램 매출은 20조3000억원...      0\n",
       "4       반면 비메모리 사업을 포함한 기타 항목 매출은 2018년 6500억원에서 지난해 1...      0\n",
       "...                                                   ...    ...\n",
       "215071  그래서 올해 내에 D램이든 낸드 등 고정 가격 반등이 예상되기 때문에 주가의 저점은...      0\n",
       "215072                                           앵커 알겠습니다      0\n",
       "215073  실적보다는 좀 모멘텀에 주목하면서 역발상 투자 전략을 활용하는 게 좋겠다  라는 말...      0\n",
       "215074                         지금까지 ET WHY 노근창 센터장 함께했습니다      0\n",
       "215075                                        답변 네  감사합니다      0\n",
       "\n",
       "[215076 rows x 2 columns]"
      ]
     },
     "execution_count": 94,
     "metadata": {},
     "output_type": "execute_result"
    }
   ],
   "source": [
    "data = pd.read_csv('./sen_data.csv')\n",
    "data"
   ]
  },
  {
   "attachments": {},
   "cell_type": "markdown",
   "metadata": {},
   "source": [
    "### 학습"
   ]
  },
  {
   "cell_type": "code",
   "execution_count": 31,
   "metadata": {},
   "outputs": [],
   "source": [
    "import pandas as pd\n",
    "import numpy as np\n",
    "from transformers import BertTokenizer, BertForSequenceClassification\n",
    "import torch\n",
    "from sklearn.model_selection import train_test_split\n",
    "from torch.utils.data import Dataset, DataLoader\n",
    "import torch.nn as nn\n",
    "# from transformers import AdamW, get_linear_schedule_with_warmup\n",
    "import json\n",
    "import time"
   ]
  },
  {
   "cell_type": "code",
   "execution_count": 32,
   "metadata": {},
   "outputs": [],
   "source": [
    "class MyDataset(Dataset):\n",
    "    def __init__(self, data, tokenizer, num_labels=2):\n",
    "        self.data = data\n",
    "        self.tokenizer = tokenizer\n",
    "        self.num_labels = num_labels\n",
    "    \n",
    "    def __len__(self):\n",
    "        return len(self.data)\n",
    "    \n",
    "    def __getitem__(self, idx):\n",
    "        text = self.data.iloc[idx]['sentence']\n",
    "        label = self.data.iloc[idx]['label']\n",
    "        \n",
    "        inputs = self.tokenizer.encode_plus(\n",
    "            text,\n",
    "            add_special_tokens=True,\n",
    "            max_length=32,\n",
    "            padding='max_length',\n",
    "            pad_to_max_length=True,\n",
    "            truncation=True,\n",
    "            return_attention_mask=True,\n",
    "            return_tensors='pt'# tensor 형식으로 반환\n",
    "        )\n",
    "        \n",
    "        return {\n",
    "            'input_ids': inputs['input_ids'].squeeze(0),# model에 맞는 모양 갖도록\n",
    "            'attention_mask': inputs['attention_mask'].squeeze(0),\n",
    "            'label': torch.tensor(label)\n",
    "        }\n",
    "    \n",
    "def get_dataloader(data, tokenizer, batch_size, num_workers):\n",
    "    train_data, test_data = train_test_split(data, test_size=0.1, random_state=42)\n",
    "\n",
    "    train_dataset = MyDataset(train_data, tokenizer)\n",
    "    test_dataset = MyDataset(test_data, tokenizer)\n",
    "\n",
    "    train_dataloader = DataLoader(train_dataset, batch_size=batch_size, shuffle=True, num_workers=num_workers)\n",
    "    test_dataloader = DataLoader(test_dataset, batch_size=batch_size, shuffle=False, num_workers=num_workers)\n",
    "    return train_dataloader, test_dataloader\n",
    "\n",
    "def format_time(t):\n",
    "    h = int(t / 3600)\n",
    "    m = int((t % 3600) / 60)\n",
    "    s = int(t % 60)\n",
    "    return f'{h:02d}:{m:02d}:{s:02d}'\n",
    "\n",
    "def accuracy(preds, labels):\n",
    "    \"\"\"\n",
    "    preds: 모델의 예측값\n",
    "    labels: 정답 레이블\n",
    "    \"\"\"\n",
    "    # 예측값의 최대값이 있는 인덱스를 선택\n",
    "    preds = torch.argmax(preds, dim=1).flatten()\n",
    "    # 예측값과 실제값이 동일한 경우 1, 그렇지 않은 경우 0을 반환\n",
    "    correct = torch.eq(preds, labels).sum()\n",
    "    # 정확도 계산\n",
    "    acc = correct.float() / float(len(labels))\n",
    "    return acc\n",
    "\n",
    "# 모델 출력으로부터 직접 loss 계산 -> 분류 문제에 더 적합\n",
    "def train_(train_dataloader, test_dataloader, model_name, num_epochs, learning_rate, start_time):\n",
    "    # epoch별 평균 train accuracy, loss\n",
    "    train_acc = []\n",
    "    train_loss = []\n",
    "    # 하나의 epoch이 끝날 때마다 test_dataloader로 평가한 결과\n",
    "    epoch_test = []\n",
    "    \n",
    "    device = torch.device(\"cuda\" if torch.cuda.is_available() else \"cpu\")\n",
    "    print('device :', device)\n",
    "    # device = torch.device(\"cpu\")\n",
    "\n",
    "    model = BertForSequenceClassification.from_pretrained(model_name)\n",
    "    print('pretrained_model :', model_name)\n",
    "    model.to(device)\n",
    "\n",
    "    optimizer = torch.optim.Adam(model.parameters(), lr=learning_rate)\n",
    "    print('optimizer : Adam')\n",
    "    \n",
    "    for epoch in range(num_epochs):\n",
    "        total_loss = 0\n",
    "        total_acc = 0\n",
    "        model.train()# model을 학습모드 전환\n",
    "        \n",
    "        for i, batch in enumerate(train_dataloader):\n",
    "            \n",
    "            input_ids = batch['input_ids'].to(device)\n",
    "            attention_mask = batch['attention_mask'].to(device)\n",
    "            labels = batch['label'].to(device)\n",
    "            outputs = model(input_ids, \n",
    "                            token_type_ids=None, \n",
    "                            attention_mask=attention_mask, \n",
    "                            labels=labels)\n",
    "            \n",
    "            loss = outputs[0]\n",
    "            preds = outputs[1]# 원시출력 logits\n",
    "            acc = accuracy(preds, labels)# 일치 비율을 반환\n",
    "            if i % 500 == 0 and i != 0:\n",
    "                print(f'[{format_time(time.time() - start_time)}] {i}번째 batch - - -')\n",
    "                print(f'loss : {loss.item()}, acc : {acc.item()}')\n",
    "            total_loss += loss.item()\n",
    "            total_acc += acc.item()\n",
    "\n",
    "            loss.backward()\n",
    "            torch.nn.utils.clip_grad_norm_(model.parameters(), 1.0)\n",
    "            optimizer.step()\n",
    "            model.zero_grad()\n",
    "\n",
    "        avg_train_loss = total_loss / len(train_dataloader)\n",
    "        avg_train_acc = total_acc / len(train_dataloader)\n",
    "        print(f'[{format_time(time.time() - start_time)}] Epoch {epoch + 1} / {num_epochs}, Train Loss: {avg_train_loss:.4f}, Train Acc: {avg_train_acc:.4f}')\n",
    "\n",
    "        train_acc.append(avg_train_acc)\n",
    "        train_loss.append(avg_train_loss)\n",
    "        epoch_test.append(evaluate(test_dataloader, model, device))\n",
    "    \n",
    "    print(epoch_test)\n",
    "    torch.save(model, 'model.pth')\n",
    "    return train_acc, train_loss, epoch_test\n",
    "\n",
    "def evaluate(test_dataloader, model, device):\n",
    "    model.eval()\n",
    "\n",
    "    total_accuracy = 0\n",
    "    total_samples = 0\n",
    "\n",
    "    with torch.no_grad(): # 그래디언트 계산 비활성화\n",
    "        for batch in test_dataloader:\n",
    "            input_ids = batch['input_ids'].to(device)\n",
    "            attention_mask = batch['attention_mask'].to(device)\n",
    "            labels = batch['label'].to(device)\n",
    "\n",
    "            outputs = model(input_ids, \n",
    "                            token_type_ids=None, \n",
    "                            attention_mask=attention_mask)\n",
    "\n",
    "            # 모델의 예측 결과 계산\n",
    "            _, predicted = torch.max(outputs.logits, dim=1)\n",
    "\n",
    "            # 정확도 계산\n",
    "            total_accuracy += (predicted == labels).sum().item()\n",
    "            total_samples += labels.size(0)\n",
    "\n",
    "    accuracy = total_accuracy / total_samples\n",
    "    print(' '*50 + f'test_data accuracy : {accuracy}')\n",
    "\n",
    "    model.train()\n",
    "    return accuracy"
   ]
  },
  {
   "cell_type": "code",
   "execution_count": 33,
   "metadata": {},
   "outputs": [],
   "source": [
    "def main(model_name, num_epochs=10, learning_rate=2e-5, batch_size=64, num_workers=4):\n",
    "    start_time = time.time()\n",
    "    tokenizer = BertTokenizer.from_pretrained(model_name)\n",
    "\n",
    "    tr, te = get_dataloader(data, tokenizer, batch_size, num_workers)\n",
    "\n",
    "    train_acc, train_loss, epoch_test = train_(tr, te, model_name, num_epochs, learning_rate, start_time)\n",
    "\n",
    "    result_dict = {'model_name': model_name,\n",
    "                   'optimizer': 'Adam',\n",
    "                   'batch': batch_size,\n",
    "                   'learning_late': learning_rate,\n",
    "                   'train_accuracy': train_acc,\n",
    "                   'train_loss': train_loss,\n",
    "                   'epoch': epoch_test}\n",
    "    print(result_dict)\n",
    "\n",
    "    with open('result.json', 'a') as f:\n",
    "        f.write(json.dumps(result_dict, indent=4) + '\\n')\n",
    "    print(f'[{format_time(time.time() - start_time)}] 실행 완료' + '\\n')\n",
    "    return"
   ]
  },
  {
   "cell_type": "code",
   "execution_count": 146,
   "metadata": {},
   "outputs": [
    {
     "name": "stderr",
     "output_type": "stream",
     "text": [
      "Some weights of the model checkpoint at bert-base-multilingual-cased were not used when initializing BertForSequenceClassification: ['cls.predictions.transform.LayerNorm.bias', 'cls.predictions.bias', 'cls.seq_relationship.weight', 'cls.predictions.transform.LayerNorm.weight', 'cls.predictions.transform.dense.weight', 'cls.predictions.decoder.weight', 'cls.seq_relationship.bias', 'cls.predictions.transform.dense.bias']\n",
      "- This IS expected if you are initializing BertForSequenceClassification from the checkpoint of a model trained on another task or with another architecture (e.g. initializing a BertForSequenceClassification model from a BertForPreTraining model).\n",
      "- This IS NOT expected if you are initializing BertForSequenceClassification from the checkpoint of a model that you expect to be exactly identical (initializing a BertForSequenceClassification model from a BertForSequenceClassification model).\n",
      "Some weights of BertForSequenceClassification were not initialized from the model checkpoint at bert-base-multilingual-cased and are newly initialized: ['classifier.bias', 'classifier.weight']\n",
      "You should probably TRAIN this model on a down-stream task to be able to use it for predictions and inference.\n"
     ]
    }
   ],
   "source": [
    "tokenizer = BertTokenizer.from_pretrained('bert-base-multilingual-cased')\n",
    "\n",
    "model = BertForSequenceClassification.from_pretrained('bert-base-multilingual-cased')"
   ]
  },
  {
   "cell_type": "code",
   "execution_count": 147,
   "metadata": {},
   "outputs": [
    {
     "data": {
      "text/plain": [
       "BertForSequenceClassification(\n",
       "  (bert): BertModel(\n",
       "    (embeddings): BertEmbeddings(\n",
       "      (word_embeddings): Embedding(119547, 768, padding_idx=0)\n",
       "      (position_embeddings): Embedding(512, 768)\n",
       "      (token_type_embeddings): Embedding(2, 768)\n",
       "      (LayerNorm): LayerNorm((768,), eps=1e-12, elementwise_affine=True)\n",
       "      (dropout): Dropout(p=0.1, inplace=False)\n",
       "    )\n",
       "    (encoder): BertEncoder(\n",
       "      (layer): ModuleList(\n",
       "        (0-11): 12 x BertLayer(\n",
       "          (attention): BertAttention(\n",
       "            (self): BertSelfAttention(\n",
       "              (query): Linear(in_features=768, out_features=768, bias=True)\n",
       "              (key): Linear(in_features=768, out_features=768, bias=True)\n",
       "              (value): Linear(in_features=768, out_features=768, bias=True)\n",
       "              (dropout): Dropout(p=0.1, inplace=False)\n",
       "            )\n",
       "            (output): BertSelfOutput(\n",
       "              (dense): Linear(in_features=768, out_features=768, bias=True)\n",
       "              (LayerNorm): LayerNorm((768,), eps=1e-12, elementwise_affine=True)\n",
       "              (dropout): Dropout(p=0.1, inplace=False)\n",
       "            )\n",
       "          )\n",
       "          (intermediate): BertIntermediate(\n",
       "            (dense): Linear(in_features=768, out_features=3072, bias=True)\n",
       "            (intermediate_act_fn): GELUActivation()\n",
       "          )\n",
       "          (output): BertOutput(\n",
       "            (dense): Linear(in_features=3072, out_features=768, bias=True)\n",
       "            (LayerNorm): LayerNorm((768,), eps=1e-12, elementwise_affine=True)\n",
       "            (dropout): Dropout(p=0.1, inplace=False)\n",
       "          )\n",
       "        )\n",
       "      )\n",
       "    )\n",
       "    (pooler): BertPooler(\n",
       "      (dense): Linear(in_features=768, out_features=768, bias=True)\n",
       "      (activation): Tanh()\n",
       "    )\n",
       "  )\n",
       "  (dropout): Dropout(p=0.1, inplace=False)\n",
       "  (classifier): Linear(in_features=768, out_features=2, bias=True)\n",
       ")"
      ]
     },
     "execution_count": 147,
     "metadata": {},
     "output_type": "execute_result"
    }
   ],
   "source": [
    "model"
   ]
  },
  {
   "cell_type": "code",
   "execution_count": null,
   "metadata": {},
   "outputs": [],
   "source": [
    "tokenizer = BertTokenizer.from_pretrained('snunlp/KR-FinBert-SC')\n",
    "\n",
    "model = BertForSequenceClassification.from_pretrained('snunlp/KR-FinBert-SC')\n",
    "model.classifier = torch.nn.Linear(in_features=model.classifier.in_features, out_features=2)\n",
    "model.num_labels = 2"
   ]
  },
  {
   "cell_type": "code",
   "execution_count": null,
   "metadata": {},
   "outputs": [],
   "source": [
    "# 저장된 모델을 불러와서 다시 테스트\n",
    "# device = torch.device(\"cuda\" if torch.cuda.is_available() else \"cpu\")\n",
    "# new_model = BertForSequenceClassification.from_pretrained(model_name)\n",
    "# new_model.load_state_dict(torch.load('model_weights.pth'))\n",
    "# new_model.to(device)\n",
    "# evaluate(te, new_model, device)"
   ]
  },
  {
   "attachments": {},
   "cell_type": "markdown",
   "metadata": {},
   "source": [
    "---"
   ]
  },
  {
   "cell_type": "code",
   "execution_count": 20,
   "metadata": {},
   "outputs": [],
   "source": [
    "# x\n",
    "# from torch_lr_finder import LRFinder\n",
    "\n",
    "# model = BertForSequenceClassification.from_pretrained(\"snunlp/KR-FinBert-SC\")\n",
    "# data = pd.read_csv('./sen_data.csv')\n",
    "# # data = data.loc[:10000, :]\n",
    "# data.dropna(inplace=True)\n",
    "# dataset = MyDataset(data)\n",
    "# dataloader = DataLoader(dataset, batch_size=64, shuffle=True, num_workers=4)\n",
    "\n",
    "# criterion = nn.CrossEntropyLoss()\n",
    "# optimizer = torch.optim.Adam(model.parameters())\n",
    "\n",
    "# lr_finder = LRFinder(model, optimizer, criterion, device=\"cuda\")\n",
    "# lr_finder.range_test(dataloader, end_lr=1, num_iter=100)\n",
    "# lr_finder.plot()"
   ]
  },
  {
   "cell_type": "code",
   "execution_count": 106,
   "metadata": {},
   "outputs": [
    {
     "name": "stdout",
     "output_type": "stream",
     "text": [
      "['간', '##밤', '뉴욕', '##증', '##시가', '7', '대', '상승', '##하는', '등', '투자', '##심', '##리도', '개선', '##된', '모습이', '##다']\n"
     ]
    }
   ],
   "source": [
    "tokenizer = BertTokenizer.from_pretrained('snunlp/KR-FinBert-SC')\n",
    "text = '간밤 뉴욕증시가 7 대 상승하는 등 투자심리도 개선된 모습이다'\n",
    "print(tokenizer.tokenize(text))"
   ]
  },
  {
   "cell_type": "code",
   "execution_count": null,
   "metadata": {},
   "outputs": [],
   "source": [
    "tokenizer.decode(tensor([[    2,  1923,  6280, 13679,  5233, 11495,    27,  2418, 10695,  8453,\n",
    "          2538,  9389,  5452, 14347, 11493,  5041, 11771,  5042,     3,     0,\n",
    "             0,     0,     0,     0,     0,     0,     0,     0,     0,     0,\n",
    "             0,     0]]), )"
   ]
  },
  {
   "cell_type": "code",
   "execution_count": 55,
   "metadata": {},
   "outputs": [],
   "source": [
    "inputs = tokenizer.encode_plus(\n",
    "            text,\n",
    "            add_special_tokens=True,\n",
    "            max_length=32,\n",
    "            padding='max_length',\n",
    "            pad_to_max_length=True,\n",
    "            truncation=True,\n",
    "            return_attention_mask=True,\n",
    "            return_tensors='pt'# tensor 형식으로 반환\n",
    "        )"
   ]
  },
  {
   "cell_type": "code",
   "execution_count": 56,
   "metadata": {},
   "outputs": [
    {
     "name": "stdout",
     "output_type": "stream",
     "text": [
      "tensor([[    2,  1923,  6280, 13679,  5233, 11495,    27,  2418, 10695,  8453,\n",
      "          2538,  9389,  5452, 14347, 11493,  5041, 11771,  5042,     3,     0,\n",
      "             0,     0,     0,     0,     0,     0,     0,     0,     0,     0,\n",
      "             0,     0]])\n",
      "tensor([[1, 1, 1, 1, 1, 1, 1, 1, 1, 1, 1, 1, 1, 1, 1, 1, 1, 1, 1, 0, 0, 0, 0, 0,\n",
      "         0, 0, 0, 0, 0, 0, 0, 0]])\n"
     ]
    }
   ],
   "source": [
    "print(inputs['input_ids'])\n",
    "print(inputs['attention_mask'])"
   ]
  },
  {
   "attachments": {},
   "cell_type": "markdown",
   "metadata": {},
   "source": [
    "---"
   ]
  },
  {
   "cell_type": "code",
   "execution_count": 106,
   "metadata": {},
   "outputs": [],
   "source": [
    "result = {\n",
    "    \"model_name\": \"snunlp/KR-FinBert-SC\",\n",
    "    \"optimizer\": \"Adam\",\n",
    "    \"batch\": 64,\n",
    "    \"learning_late\": 2e-05,\n",
    "    \"train_accuracy\": [\n",
    "        0.5532747933884298,\n",
    "        0.630650826446281,\n",
    "        0.7028254132231405,\n",
    "        0.7628770661157025,\n",
    "        0.8120919421487603,\n",
    "        0.8478357438016529,\n",
    "        0.8746642561983471,\n",
    "        0.8952995867768595,\n",
    "        0.9092148760330578,\n",
    "        0.9206146694214876\n",
    "    ],\n",
    "    \"train_loss\": [\n",
    "        0.6827049887278849,\n",
    "        0.6334574777626795,\n",
    "        0.558571440621841,\n",
    "        0.4757402021628766,\n",
    "        0.39651564396117345,\n",
    "        0.3332553222455269,\n",
    "        0.284082009986905,\n",
    "        0.2440363066625004,\n",
    "        0.2154013562670424,\n",
    "        0.19160451152107932\n",
    "    ],\n",
    "    \"epoch\": [\n",
    "        0.5913613539148224,\n",
    "        0.6140505858285289,\n",
    "        0.6089362097824066,\n",
    "        0.6232564627115492,\n",
    "        0.6288357820345918,\n",
    "        0.6262785940115306,\n",
    "        0.6309280267807328,\n",
    "        0.6231169797284731,\n",
    "        0.6262785940115306,\n",
    "        0.6276269295145992\n",
    "    ],\n",
    "    \"time_taken\": \"05:08:34\"\n",
    "}"
   ]
  },
  {
   "cell_type": "code",
   "execution_count": 107,
   "metadata": {},
   "outputs": [],
   "source": [
    "import matplotlib.pyplot as plt"
   ]
  },
  {
   "cell_type": "code",
   "execution_count": 111,
   "metadata": {},
   "outputs": [
    {
     "data": {
      "image/png": "[encoded data removed]",
      "text/plain": [
       "<Figure size 2000x500 with 3 Axes>"
      ]
     },
     "metadata": {},
     "output_type": "display_data"
    }
   ],
   "source": [
    "train_accuracy = result['train_accuracy']\n",
    "train_loss = result['train_loss']\n",
    "test_accuracy = result['epoch']\n",
    "\n",
    "x = range(1, 11)\n",
    "\n",
    "fig, (ax1, ax2, ax3) = plt.subplots(1, 3, figsize=(20, 5))\n",
    "fig.suptitle('Training Metrics')\n",
    "\n",
    "ax1.plot(x, train_accuracy)\n",
    "ax1.set_title('Train Accuracy')\n",
    "ax1.set_xlabel('Epoch')\n",
    "ax1.set_ylabel('Accuracy')\n",
    "\n",
    "ax2.plot(x, train_loss)\n",
    "ax2.set_title('Train Loss')\n",
    "ax2.set_xlabel('Epoch')\n",
    "ax2.set_ylabel('Loss')\n",
    "\n",
    "ax3.plot(x, test_accuracy)\n",
    "ax3.set_title('Epoch')\n",
    "ax3.set_xlabel('Epoch')\n",
    "ax3.set_ylabel('Value')\n",
    "\n",
    "plt.show()\n"
   ]
  },
  {
   "cell_type": "code",
   "execution_count": null,
   "metadata": {},
   "outputs": [],
   "source": [
    "import pandas as pd\n",
    "from wordcloud import WordCloud\n",
    "import matplotlib.pyplot as plt"
   ]
  },
  {
   "cell_type": "code",
   "execution_count": null,
   "metadata": {},
   "outputs": [],
   "source": [
    "# with open(\"./data_in/koreanStopwords.txt\", encoding='utf-8') as f:\n",
    "#     stopwords = f.readlines()\n",
    "# stopwords = [x.strip() for x in stopwords]\n",
    "\n",
    "data = pd.read_csv('sen_data.csv')"
   ]
  },
  {
   "cell_type": "code",
   "execution_count": null,
   "metadata": {},
   "outputs": [],
   "source": [
    "text_0 = data[data['label'] == 0]['sentence'].tolist() \n",
    "text_1 = data[data['label'] == 1]['sentence'].tolist()"
   ]
  },
  {
   "cell_type": "code",
   "execution_count": null,
   "metadata": {},
   "outputs": [],
   "source": [
    "from konlpy.tag import Komoran\n",
    "\n",
    "komoran = Komoran()\n",
    "\n",
    "# text_0에서 명사만 추출\n",
    "nouns_0 = []\n",
    "for sentence in text_0:\n",
    "    for noun in komoran.nouns(sentence):\n",
    "        if noun not in stopwords:\n",
    "            nouns_0.append(noun)\n",
    "\n",
    "# text_1에서 명사만 추출\n",
    "nouns_1 = []\n",
    "for sentence in text_1:\n",
    "    for noun in komoran.nouns(sentence):\n",
    "        if noun not in stopwords:\n",
    "            nouns_1.append(noun)"
   ]
  },
  {
   "cell_type": "code",
   "execution_count": 127,
   "metadata": {},
   "outputs": [
    {
     "data": {
      "text/plain": [
       "(datetime.date(2023, 5, 3), datetime.date(2023, 5, 2))"
      ]
     },
     "execution_count": 127,
     "metadata": {},
     "output_type": "execute_result"
    }
   ],
   "source": [
    "from datetime import datetime, timedelta, time\n",
    "today = datetime.now().date()\n",
    "yesterday = today - timedelta(days=1)\n",
    "today, yesterday"
   ]
  },
  {
   "cell_type": "code",
   "execution_count": null,
   "metadata": {},
   "outputs": [],
   "source": []
  }
 ],
 "metadata": {
  "kernelspec": {
   "display_name": "study",
   "language": "python",
   "name": "python3"
  },
  "language_info": {
   "codemirror_mode": {
    "name": "ipython",
    "version": 3
   },
   "file_extension": ".py",
   "mimetype": "text/x-python",
   "name": "python",
   "nbconvert_exporter": "python",
   "pygments_lexer": "ipython3",
   "version": "3.10.9"
  },
  "orig_nbformat": 4
 },
 "nbformat": 4,
 "nbformat_minor": 2
}
